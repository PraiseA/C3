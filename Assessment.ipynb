{
  "nbformat": 4,
  "nbformat_minor": 0,
  "metadata": {
    "colab": {
      "name": "Assessment",
      "provenance": [],
      "authorship_tag": "ABX9TyOq8taECkEXlH8j1poHPgoi",
      "include_colab_link": true
    },
    "kernelspec": {
      "name": "python3",
      "display_name": "Python 3"
    },
    "language_info": {
      "name": "python"
    }
  },
  "cells": [
    {
      "cell_type": "markdown",
      "metadata": {
        "id": "view-in-github",
        "colab_type": "text"
      },
      "source": [
        "<a href=\"https://colab.research.google.com/github/PraiseA/C3/blob/main/Assessment.ipynb\" target=\"_parent\"><img src=\"https://colab.research.google.com/assets/colab-badge.svg\" alt=\"Open In Colab\"/></a>"
      ]
    },
    {
      "cell_type": "code",
      "metadata": {
        "id": "AYt7SEx8IkXN"
      },
      "source": [
        ""
      ],
      "execution_count": null,
      "outputs": []
    },
    {
      "cell_type": "code",
      "metadata": {
        "id": "qOjCZyGUIwVg"
      },
      "source": [
        "Write a function that reverse complements the sequence DNA=\"ATCGATCGATCAGATTTAAACGGCATATCATAGCACGTACATGACG\"\n"
      ],
      "execution_count": null,
      "outputs": []
    },
    {
      "cell_type": "code",
      "metadata": {
        "id": "TKst12XKI1ic"
      },
      "source": [
        "def complement_sequence(seq):\n",
        "  \"\"\" get the reverse complement of the sequences\"\"\"\n",
        "\n",
        "  if base in 'A':\n",
        "     return 'T'\n",
        "  elif base in 'T':\n",
        "      return'A'\n",
        "  elif base in 'G':\n",
        "      return 'C'\n",
        "  elif base in 'C':\n",
        "      return 'G'\n",
        "def reverse_complement(seq):\n",
        "    \"\"\"Compute reverse complement of a sequence.\"\"\"\n",
        "       \n",
        "    return rev_seq\n",
        "    reverse_complement(\"ATCGATCGATCAGATTTAAACGGCATATCATAGCACGTACATGACG\")\n",
        "    print (\"reverse_complement\")"
      ],
      "execution_count": null,
      "outputs": []
    },
    {
      "cell_type": "markdown",
      "metadata": {
        "id": "_Jxs0l4syMq7"
      },
      "source": [
        ""
      ]
    },
    {
      "cell_type": "code",
      "metadata": {
        "id": "qYGi2CoQyNXq"
      },
      "source": [
        "# Write a for loop that prints values 4-10 "
      ],
      "execution_count": null,
      "outputs": []
    },
    {
      "cell_type": "code",
      "metadata": {
        "colab": {
          "base_uri": "https://localhost:8080/"
        },
        "id": "7qfMHbgfyaIX",
        "outputId": "ddb2c6fc-61f3-4738-ac0d-38eb194913cf"
      },
      "source": [
        "for value in range (4, 11):\n",
        "  print(value)"
      ],
      "execution_count": null,
      "outputs": [
        {
          "output_type": "stream",
          "text": [
            "4\n",
            "5\n",
            "6\n",
            "7\n",
            "8\n",
            "9\n",
            "10\n"
          ],
          "name": "stdout"
        }
      ]
    },
    {
      "cell_type": "markdown",
      "metadata": {
        "id": "r5DLidYlz1N-"
      },
      "source": [
        ""
      ]
    },
    {
      "cell_type": "code",
      "metadata": {
        "id": "tq5coTh0z1de"
      },
      "source": [
        "# Create a while loop that starts with x = 0 and increments x until x is equal to 5. Each iteration should print to the console"
      ],
      "execution_count": null,
      "outputs": []
    },
    {
      "cell_type": "code",
      "metadata": {
        "colab": {
          "base_uri": "https://localhost:8080/"
        },
        "id": "sl3RC3xUz6zY",
        "outputId": "9dfd4f38-6c15-4495-b57e-c94c4efdca61"
      },
      "source": [
        "x = 0\n",
        "while (x <= 5):\n",
        "  print(x)\n",
        "  x = x + 1"
      ],
      "execution_count": null,
      "outputs": [
        {
          "output_type": "stream",
          "text": [
            "0\n",
            "1\n",
            "2\n",
            "3\n",
            "4\n",
            "5\n"
          ],
          "name": "stdout"
        }
      ]
    },
    {
      "cell_type": "markdown",
      "metadata": {
        "id": "7Xq-086e19lk"
      },
      "source": [
        "Using a DNA sequence read from file, answer the following questions: (20mks)\n",
        "Show that the DNA string contains only four letters.\n",
        "In the DNA string there are regions that have a repeating letter. What is the letter and length of the longest repeating region?\n",
        "How many ’ATG’s are in the DNA string?"
      ]
    },
    {
      "cell_type": "code",
      "metadata": {
        "id": "j8WCWUqx190_",
        "colab": {
          "base_uri": "https://localhost:8080/",
          "height": 262
        },
        "outputId": "7f447b6d-083c-4b4b-e81b-7b1e0bbc428d"
      },
      "source": [
        "# Show the DNA string contains only four letters\n",
        "\n",
        "file_name  = open(\"SeqfromfileQA.fasta\", \"w+\") \n",
        "print('file_object')\n",
        "\n",
        "number_of_elements = len(file_object)\n",
        "number_of_unique_elements = len(set(file_object))\n",
        "\n",
        "print(\"Number of elements in the list: \", number_of_elements)\n",
        "print(\"Number of unique elements in the list: \", number_of_unique_elements)\n"
      ],
      "execution_count": null,
      "outputs": [
        {
          "output_type": "stream",
          "text": [
            "file_object\n"
          ],
          "name": "stdout"
        },
        {
          "output_type": "error",
          "ename": "TypeError",
          "evalue": "ignored",
          "traceback": [
            "\u001b[0;31m---------------------------------------------------------------------------\u001b[0m",
            "\u001b[0;31mTypeError\u001b[0m                                 Traceback (most recent call last)",
            "\u001b[0;32m<ipython-input-45-dba59695c1a5>\u001b[0m in \u001b[0;36m<module>\u001b[0;34m()\u001b[0m\n\u001b[1;32m      4\u001b[0m \u001b[0mprint\u001b[0m\u001b[0;34m(\u001b[0m\u001b[0;34m'file_object'\u001b[0m\u001b[0;34m)\u001b[0m\u001b[0;34m\u001b[0m\u001b[0;34m\u001b[0m\u001b[0m\n\u001b[1;32m      5\u001b[0m \u001b[0;34m\u001b[0m\u001b[0m\n\u001b[0;32m----> 6\u001b[0;31m \u001b[0mnumber_of_elements\u001b[0m \u001b[0;34m=\u001b[0m \u001b[0mlen\u001b[0m\u001b[0;34m(\u001b[0m\u001b[0mfile_object\u001b[0m\u001b[0;34m)\u001b[0m\u001b[0;34m\u001b[0m\u001b[0;34m\u001b[0m\u001b[0m\n\u001b[0m\u001b[1;32m      7\u001b[0m \u001b[0mnumber_of_unique_elements\u001b[0m \u001b[0;34m=\u001b[0m \u001b[0mlen\u001b[0m\u001b[0;34m(\u001b[0m\u001b[0mset\u001b[0m\u001b[0;34m(\u001b[0m\u001b[0mfile_object\u001b[0m\u001b[0;34m)\u001b[0m\u001b[0;34m)\u001b[0m\u001b[0;34m\u001b[0m\u001b[0;34m\u001b[0m\u001b[0m\n\u001b[1;32m      8\u001b[0m \u001b[0;34m\u001b[0m\u001b[0m\n",
            "\u001b[0;31mTypeError\u001b[0m: object of type '_io.TextIOWrapper' has no len()"
          ]
        }
      ]
    },
    {
      "cell_type": "code",
      "metadata": {
        "id": "JsINQDTq2TEd"
      },
      "source": [
        "#  What is the letter and length of the longest repeating region?\n"
      ],
      "execution_count": null,
      "outputs": []
    },
    {
      "cell_type": "code",
      "metadata": {
        "id": "JhiGz9SnF_IV"
      },
      "source": [
        "# How many ’ATG’s are in the DNA string\n",
        "\n",
        "print(\"number of time ATG appears in DNA\")"
      ],
      "execution_count": null,
      "outputs": []
    },
    {
      "cell_type": "code",
      "metadata": {
        "id": "o6PcfZjMOENI"
      },
      "source": [
        "# Create a bash script called hello.sh that takes a command line input of name, bash hello.sh Brian, prints\n",
        "\n",
        "$ bash hello.sh\n",
        "\"echo 'hello' \" >> hello.sh\n",
        "\n",
        "who = \"Brian\"\n",
        "echo \"Hello, $who!\"\n",
        "print(\"Hello\", Brian(\"How are you?\"))"
      ],
      "execution_count": null,
      "outputs": []
    },
    {
      "cell_type": "markdown",
      "metadata": {
        "id": "1lNpA-w4V7mW"
      },
      "source": [
        "Write a script that counts the number of sequences in each fasta file in the Exam_dataset. It should print to console the name of the file and the number of sequences, each separated by a tab. For example, if sequence1.fasta has 10 sequences, it should print:\n",
        "sequence1.fasta: 10\n"
      ]
    },
    {
      "cell_type": "code",
      "metadata": {
        "id": "bvtvTeExV9YZ"
      },
      "source": [
        "file_name  = open(\"Exam_dataset\", \"w+\") \n",
        "# read contents\n",
        "open(\"sequence1.fasta\")\n",
        "sequence1.fasta = file_name.read()\n",
        "# number of sequences\n",
        "number_of_sequences = len(sequence1.fasta)\n",
        "# print\n",
        "print(\"sequence1.fasta:\" +str(number_of_sequences))"
      ],
      "execution_count": null,
      "outputs": []
    },
    {
      "cell_type": "code",
      "metadata": {
        "id": "Pa7h-8EXa74F"
      },
      "source": [
        "file_name  = open(\"Exam_dataset\", \"w+\") \n",
        "# read contents\n",
        "open(\"sequence_2.fasta\")\n",
        "sequence_2.fasta = file_name.read()\n",
        "# number of sequences\n",
        "number_of_sequences = len(sequence_2.fasta)\n",
        "# print\n",
        "print(\"sequence_2.fasta:\" +str(number_of_sequences))"
      ],
      "execution_count": null,
      "outputs": []
    },
    {
      "cell_type": "code",
      "metadata": {
        "id": "vCDDD5-WbCjA"
      },
      "source": [
        "file_name  = open(\"Exam_dataset\", \"w+\") \n",
        "# read contents\n",
        "open(\"sequence_3.fasta\")\n",
        "sequence_3.fasta = file_name.read()\n",
        "# number of sequences\n",
        "number_of_sequences = len(sequence_3.fasta)\n",
        "# print\n",
        "print(\"sequence_3.fasta:\" +str(number_of_sequences))"
      ],
      "execution_count": null,
      "outputs": []
    },
    {
      "cell_type": "code",
      "metadata": {
        "id": "mG4lLQDwbG4f"
      },
      "source": [
        "file_name  = open(\"Exam_dataset\", \"w+\") \n",
        "# read contents\n",
        "open(\"SeqfromfileQ4.fasta\")\n",
        "SeqfromfileQ4.fasta = file_name.read()\n",
        "# number of sequences\n",
        "number_of_sequences = len(SeqfromfileQ4.fasta)\n",
        "# print\n",
        "print(\"sequence1.fasta:\" +str(number_of_sequences))"
      ],
      "execution_count": null,
      "outputs": []
    },
    {
      "cell_type": "markdown",
      "metadata": {
        "id": "fQOGlETvaP2Y"
      },
      "source": [
        ""
      ]
    },
    {
      "cell_type": "markdown",
      "metadata": {
        "id": "3stuPJOSaP5a"
      },
      "source": [
        "Write a script that extracts the sequence headers of all the provided fasta files, and writes the output in the Results directory to a file all_sequence_headers.txt."
      ]
    },
    {
      "cell_type": "code",
      "metadata": {
        "id": "wKhqjFpgaQuv"
      },
      "source": [
        "\n",
        "my_filename_header = open(\"all_sequence_headers.txt\", \"w\")\n",
        "line_header =[]\n",
        "with open(\"SeqfromfileQ4.fasta\") as my_filename_h1:\n",
        "  for line in my_filename_h1.readlines():\n",
        "    if line.startswith(\">\"):\n",
        "      line.strip\n",
        "      line_header.append(str(line))\n",
        "      continue\n",
        "      str_h =\"\"\n",
        "      for item in line_header:\n",
        "        str_h += item\n",
        "        print(str_h)\n",
        "        my_filename_header.write(str_h)"
      ],
      "execution_count": null,
      "outputs": []
    },
    {
      "cell_type": "code",
      "metadata": {
        "id": "pLdOgx1dokbC"
      },
      "source": [
        "my_filename_header1 = open(\"all_sequence_headers.txt\", \"w\")\n",
        "line_header1 =[]\n",
        "with open(\"sequence1.fasta\") as my_filename_h2:\n",
        "  for line in my_filename_h2.readlines():\n",
        "    if line.startswith(\">\"):\n",
        "      line.strip\n",
        "      line_header1.append(str(line))\n",
        "      continue\n",
        "      str_h1 =\"\"\n",
        "      for item in line_header1:\n",
        "        str_h1 += item\n",
        "        print(str_h1)\n",
        "        my_filename_header1.write(str_h1)"
      ],
      "execution_count": null,
      "outputs": []
    },
    {
      "cell_type": "code",
      "metadata": {
        "id": "Ruom4VzFonhj"
      },
      "source": [
        "my_filename_header2 = open(\"all_sequence_headers.txt\",\"w\")\n",
        "line_header2 =[]\n",
        "with open(\"sequence_2.fasta\") as my_filename_h3:\n",
        "  for line in my_filename_h3.readlines():\n",
        "    if line.startswith(\">\"):\n",
        "      line.strip\n",
        "      line_header2.append(str(line))\n",
        "      continue\n",
        "      str_h2 =\"\"\n",
        "      for item in line_header2:\n",
        "        str_h2 += item\n",
        "        print(str_h2)\n",
        "        my_filename_header2.write(str_h2)"
      ],
      "execution_count": null,
      "outputs": []
    },
    {
      "cell_type": "code",
      "metadata": {
        "id": "6dBXiKlNoqPl"
      },
      "source": [
        "my_filename_header3 = open(\"all_sequence_headers.txt\", \"w\")\n",
        "line_header3 =[]\n",
        "with open(\"sequence_3.fasta\") as my_filename_h4:\n",
        "  for line in my_filename_h3.readlines():\n",
        "    if line.startswith(\">\"):\n",
        "      line.strip\n",
        "      line_header3.append(str(line))\n",
        "      continue\n",
        "      str_h3 =\"\"\n",
        "      for item in line_header3:\n",
        "        str_h3 += item\n",
        "        print(str_h3)\n",
        "        my_filename_header3.write(str_h2)"
      ],
      "execution_count": null,
      "outputs": []
    }
  ]
}